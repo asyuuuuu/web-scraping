{
  "nbformat": 4,
  "nbformat_minor": 0,
  "metadata": {
    "colab": {
      "provenance": [],
      "toc_visible": true,
      "authorship_tag": "ABX9TyME2GZC6NvXKmkBmcQZ3hQa"
    },
    "kernelspec": {
      "name": "python3",
      "display_name": "Python 3"
    },
    "language_info": {
      "name": "python"
    }
  },
  "cells": [
    {
      "cell_type": "markdown",
      "source": [
        "#**Quotes web scraping**"
      ],
      "metadata": {
        "id": "EKnizU5t-Sm8"
      }
    },
    {
      "cell_type": "markdown",
      "source": [
        "##Goal and Objective\n",
        "\n",
        "This is my first self-learn web-scraping project. I aim to extract quotes and the authors from quotes.toscrape.com. my objective is to learn and understand the requests function and scrap using the BeautifulSoup library.\n",
        "\n"
      ],
      "metadata": {
        "id": "g6wcw1Qs9dQD"
      }
    },
    {
      "cell_type": "code",
      "execution_count": 2,
      "metadata": {
        "id": "ZhwPqZb2DFmD",
        "colab": {
          "base_uri": "https://localhost:8080/"
        },
        "outputId": "3c15ab5c-0e4f-4a65-924e-b4d654c65301"
      },
      "outputs": [
        {
          "output_type": "stream",
          "name": "stdout",
          "text": [
            "“The world as we have created it is a process of our thinking. It cannot be changed without changing our thinking.”\n",
            "“It is our choices, Harry, that show what we truly are, far more than our abilities.”\n",
            "“There are only two ways to live your life. One is as though nothing is a miracle. The other is as though everything is a miracle.”\n",
            "“The person, be it gentleman or lady, who has not pleasure in a good novel, must be intolerably stupid.”\n",
            "“Imperfection is beauty, madness is genius and it's better to be absolutely ridiculous than absolutely boring.”\n",
            "“Try not to become a man of success. Rather become a man of value.”\n",
            "“It is better to be hated for what you are than to be loved for what you are not.”\n",
            "“I have not failed. I've just found 10,000 ways that won't work.”\n",
            "“A woman is like a tea bag; you never know how strong it is until it's in hot water.”\n",
            "“A day without sunshine is like, you know, night.”\n",
            "Albert Einstein\n",
            "J.K. Rowling\n",
            "Albert Einstein\n",
            "Jane Austen\n",
            "Marilyn Monroe\n",
            "Albert Einstein\n",
            "André Gide\n",
            "Thomas A. Edison\n",
            "Eleanor Roosevelt\n",
            "Steve Martin\n"
          ]
        }
      ],
      "source": [
        "import requests\n",
        "from bs4 import BeautifulSoup\n",
        "\n",
        "page_to_scrape = requests.get(\"https://quotes.toscrape.com/\")\n",
        "soup = BeautifulSoup(page_to_scrape.text, \"html.parser\")\n",
        "quotes = soup.find_all(\"span\", attrs={\"class\":\"text\"})\n",
        "authors = soup.find_all(\"small\", attrs={\"class\":\"author\"})\n",
        "\n",
        "for quote in quotes:\n",
        "  print(quote.text)\n",
        "\n",
        "for author in authors:\n",
        "  print(author.text)\n",
        "\n"
      ]
    },
    {
      "cell_type": "markdown",
      "source": [
        "In the previous code, we can see the result where the authors are seperated with their quotes. To see how the authors name will be attached together with the quotes, see next codes."
      ],
      "metadata": {
        "id": "wWafmh6x-egB"
      }
    },
    {
      "cell_type": "code",
      "source": [
        "for quote, author in zip(quotes, authors):\n",
        "  print(quote.text + \"-\" + author.text)\n",
        "\n"
      ],
      "metadata": {
        "id": "IANoTRjaH0VM",
        "colab": {
          "base_uri": "https://localhost:8080/"
        },
        "outputId": "aa66966f-4fa8-427e-9965-aef9d470e849"
      },
      "execution_count": 3,
      "outputs": [
        {
          "output_type": "stream",
          "name": "stdout",
          "text": [
            "“The world as we have created it is a process of our thinking. It cannot be changed without changing our thinking.”-Albert Einstein\n",
            "“It is our choices, Harry, that show what we truly are, far more than our abilities.”-J.K. Rowling\n",
            "“There are only two ways to live your life. One is as though nothing is a miracle. The other is as though everything is a miracle.”-Albert Einstein\n",
            "“The person, be it gentleman or lady, who has not pleasure in a good novel, must be intolerably stupid.”-Jane Austen\n",
            "“Imperfection is beauty, madness is genius and it's better to be absolutely ridiculous than absolutely boring.”-Marilyn Monroe\n",
            "“Try not to become a man of success. Rather become a man of value.”-Albert Einstein\n",
            "“It is better to be hated for what you are than to be loved for what you are not.”-André Gide\n",
            "“I have not failed. I've just found 10,000 ways that won't work.”-Thomas A. Edison\n",
            "“A woman is like a tea bag; you never know how strong it is until it's in hot water.”-Eleanor Roosevelt\n",
            "“A day without sunshine is like, you know, night.”-Steve Martin\n"
          ]
        }
      ]
    },
    {
      "cell_type": "markdown",
      "source": [
        "**We have to zip the quotes together with the authors to put them together.**"
      ],
      "metadata": {
        "id": "HT_y2Hg-_CRL"
      }
    },
    {
      "cell_type": "markdown",
      "source": [
        "#**Summary**\n",
        "\n",
        "I have successfully learn and understand this simple process.\n",
        "Firstly, we have to import request to request html from the webpage.\n",
        "\n",
        "Next, we have to parse the HTML. This can be done using soup from BeautifulSoup library.\n",
        "\n",
        "After that, we have to locate the location(by using inspect element) in the page that we want to scrap, for this case, the quotes and authors, where the quotes class name is \"span\" while authors class name is \"small\".\n",
        "\n",
        "Lastly, iterate the quotes and authors so we can have all the quotes and authors."
      ],
      "metadata": {
        "id": "YXqs4FzY_MkH"
      }
    },
    {
      "cell_type": "code",
      "source": [
        "# Download the printed quotes\n",
        "\n",
        "with open('quotes.txt', 'w') as f:\n",
        "  for quote, author in zip(quotes, authors):\n",
        "    f.write(quote.text + \"-\" + author.text + \"\\n\")\n",
        "\n",
        "from google.colab import files\n",
        "files.download('quotes.txt')\n"
      ],
      "metadata": {
        "colab": {
          "base_uri": "https://localhost:8080/",
          "height": 17
        },
        "id": "pRdFoKo7e5yF",
        "outputId": "38c94c71-dbc5-4f77-f8f5-0eca9e633ca4"
      },
      "execution_count": 4,
      "outputs": [
        {
          "output_type": "display_data",
          "data": {
            "text/plain": [
              "<IPython.core.display.Javascript object>"
            ],
            "application/javascript": [
              "\n",
              "    async function download(id, filename, size) {\n",
              "      if (!google.colab.kernel.accessAllowed) {\n",
              "        return;\n",
              "      }\n",
              "      const div = document.createElement('div');\n",
              "      const label = document.createElement('label');\n",
              "      label.textContent = `Downloading \"${filename}\": `;\n",
              "      div.appendChild(label);\n",
              "      const progress = document.createElement('progress');\n",
              "      progress.max = size;\n",
              "      div.appendChild(progress);\n",
              "      document.body.appendChild(div);\n",
              "\n",
              "      const buffers = [];\n",
              "      let downloaded = 0;\n",
              "\n",
              "      const channel = await google.colab.kernel.comms.open(id);\n",
              "      // Send a message to notify the kernel that we're ready.\n",
              "      channel.send({})\n",
              "\n",
              "      for await (const message of channel.messages) {\n",
              "        // Send a message to notify the kernel that we're ready.\n",
              "        channel.send({})\n",
              "        if (message.buffers) {\n",
              "          for (const buffer of message.buffers) {\n",
              "            buffers.push(buffer);\n",
              "            downloaded += buffer.byteLength;\n",
              "            progress.value = downloaded;\n",
              "          }\n",
              "        }\n",
              "      }\n",
              "      const blob = new Blob(buffers, {type: 'application/binary'});\n",
              "      const a = document.createElement('a');\n",
              "      a.href = window.URL.createObjectURL(blob);\n",
              "      a.download = filename;\n",
              "      div.appendChild(a);\n",
              "      a.click();\n",
              "      div.remove();\n",
              "    }\n",
              "  "
            ]
          },
          "metadata": {}
        },
        {
          "output_type": "display_data",
          "data": {
            "text/plain": [
              "<IPython.core.display.Javascript object>"
            ],
            "application/javascript": [
              "download(\"download_b03d207b-fec3-4630-b9ef-2ceab6bdf9fb\", \"quotes.txt\", 1093)"
            ]
          },
          "metadata": {}
        }
      ]
    },
    {
      "cell_type": "code",
      "source": [],
      "metadata": {
        "id": "qHe2FEP1fd9K"
      },
      "execution_count": 4,
      "outputs": []
    }
  ]
}